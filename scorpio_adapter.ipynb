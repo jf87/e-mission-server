{
 "cells": [
  {
   "cell_type": "markdown",
   "metadata": {},
   "source": [
    "# E-Mission to Scorpio"
   ]
  },
  {
   "cell_type": "code",
   "execution_count": 1,
   "metadata": {},
   "outputs": [
    {
     "name": "stdout",
     "output_type": "stream",
     "text": [
      "Connecting to database URL localhost\n"
     ]
    }
   ],
   "source": [
    "import emission.core.get_database as edb\n",
    "import pandas as pd\n",
    "import requests\n",
    "import copy\n",
    "import json\n",
    "import enum\n",
    "import emission.storage.timeseries.abstract_timeseries as esta\n",
    "import emission.storage.timeseries.timequery as estt\n",
    "from transport_co2 import estimate_co2\n",
    "from datetime import datetime\n",
    "import uuid\n",
    "import requests\n",
    "import copy\n",
    "import json\n",
    "from uuid import UUID\n",
    "import arrow\n"
   ]
  },
  {
   "cell_type": "code",
   "execution_count": 2,
   "metadata": {},
   "outputs": [],
   "source": [
    "class PredictedModeTypes(enum.IntEnum):\n",
    "    UNKNOWN = 0\n",
    "    WALKING = 1\n",
    "    BICYCLING = 2\n",
    "    BUS = 3\n",
    "    TRAIN = 4\n",
    "    CAR = 5\n",
    "    AIR_OR_HSR = 6\n",
    "    SUBWAY = 7\n",
    "    TRAM = 8\n",
    "    LIGHT_RAIL = 9\n",
    "    \n",
    "mode_mapping = {\n",
    "    PredictedModeTypes.UNKNOWN: \"walk\",\n",
    "    PredictedModeTypes.WALKING: \"walk\",\n",
    "    PredictedModeTypes.BICYCLING: \"walk\",\n",
    "    PredictedModeTypes.BUS: \"bus\",\n",
    "    PredictedModeTypes.TRAIN: \"light_rail\",\n",
    "    PredictedModeTypes.CAR: \"small_car\",\n",
    "    PredictedModeTypes.AIR_OR_HSR: \"airplane\",\n",
    "    PredictedModeTypes.SUBWAY: \"subway\",\n",
    "    PredictedModeTypes.TRAM: \"light_rail\",\n",
    "    PredictedModeTypes.LIGHT_RAIL: \"light_rail\"\n",
    "}\n",
    "\n",
    "def compute_carbon_footprint(x):\n",
    "    mode = mode_mapping[x.sensed_mode]\n",
    "    return estimate_co2(mode=mode, distance_in_km=x.distance/1000)\n",
    "\n",
    "\n",
    "ngsi_template = {\n",
    "   \"id\": \"urn:section1\",\n",
    "   \"type\": \"SectionObserved\",\n",
    "   \"transportMode\": {\n",
    "       \"type\": \"Property\",\n",
    "\t    \"observedAt\": \"2021-03-24T12:10:00Z\",\n",
    "       \"value\": \"car\"\n",
    "   },\t\n",
    "   \"distance\": {\n",
    "       \"type\": \"Property\",\n",
    "\t    \"observedAt\": \"2021-03-24T12:10:00Z\",\n",
    "       \"value\": 3464\n",
    "   },\n",
    "   \"duration\": {\n",
    "       \"type\": \"Property\",\n",
    "\t    \"observedAt\": \"2021-03-24T12:10:00Z\",\n",
    "       \"value\": 123\n",
    "   },\n",
    "   \"speed\": {\n",
    "       \"type\": \"Property\",\n",
    "\t    \"observedAt\": \"2021-03-24T12:10:00Z\",\n",
    "       \"value\": 40\n",
    "   },\n",
    "   \"co2\": {\n",
    "       \"type\": \"Property\",\n",
    "\t    \"observedAt\": \"2021-03-24T12:10:00Z\",\n",
    "       \"value\": 123\n",
    "   },\n",
    "\t\"location\": {\n",
    "\t\t\"type\": \"GeoProperty\",\n",
    "\t\t\"value\": {\n",
    "\t\t\t\"type\": \"LineString\",\n",
    "\t\t\t\"coordinates\": \n",
    "\t\t\t\t[\n",
    "\t\t\t\t\t[139.815535, 35.772622999999996],\n",
    "\t\t\t\t\t[139.815535, 35.774623]\n",
    "\t\t\t\t]\n",
    "\t\t\n",
    "\t\t}\n",
    "\t},\t\t\n",
    "   \"@context\": [\n",
    "\t\t{\"transportMode\": \"odala:transportMode\", \"distance\": \"odala:distance\", \"duration\": \"odala:duration\",\n",
    "         \"co2\": \"odala:co2\"},\n",
    "       \"http://uri.etsi.org/ngsi-ld/v1/ngsi-ld-core-context.jsonld\"\n",
    "   ]\n",
    "}"
   ]
  },
  {
   "cell_type": "code",
   "execution_count": 3,
   "metadata": {},
   "outputs": [],
   "source": [
    "def create_payloads(is_df):\n",
    "    payloads = []\n",
    "    for index, row in is_df.iterrows():\n",
    "        payload = copy.deepcopy(ngsi_template)\n",
    "        observedAt = datetime.utcfromtimestamp(row[\"end_ts\"]).strftime('%Y-%m-%dT%H:%M:%SZ')\n",
    "        payload[\"id\"] = \"urn:\"+ str(row[\"cleaned_section\"])\n",
    "        payload[\"transportMode\"][\"value\"] = PredictedModeTypes(row[\"sensed_mode\"]).name\n",
    "        payload[\"transportMode\"][\"observedAt\"] = observedAt\n",
    "        payload[\"distance\"][\"value\"] = row[\"distance\"]\n",
    "        payload[\"distance\"][\"observedAt\"] = observedAt\n",
    "        payload[\"duration\"][\"value\"] = row[\"duration\"]\n",
    "        payload[\"duration\"][\"observedAt\"] = observedAt\n",
    "        payload[\"speed\"][\"value\"] = row[\"speed\"]\n",
    "        payload[\"speed\"][\"observedAt\"] = observedAt\n",
    "        payload[\"co2\"][\"value\"] = row[\"co2\"]\n",
    "        payload[\"co2\"][\"observedAt\"] = observedAt\n",
    "        payload[\"location\"][\"value\"][\"coordinates\"] = [row[\"start_loc\"][\"coordinates\"] ,row[\"end_loc\"][\"coordinates\"]]\n",
    "        payloads.append(payload)\n",
    "    return payloads\n",
    "\n",
    "def post_payloads(payloads):\n",
    "    # url = 'http://cema.nlehd.de:2042/ngsi-ld/v1/entityOperations/upsert'\n",
    "    url = 'http://cema.nlehd.de:2042/ngsi-ld/v1/entities'\n",
    "    headers = {'Content-Type': 'application/ld+json'}\n",
    "    for e in payloads[0:20]:\n",
    "        r = requests.post(url, data=json.dumps(e), headers=headers)    \n",
    "        if r.status_code != 201:\n",
    "            print(\"request failed:\", r.status_code)\n",
    "            print(r.text)\n",
    "    "
   ]
  },
  {
   "cell_type": "code",
   "execution_count": 4,
   "metadata": {},
   "outputs": [],
   "source": [
    "all_users = list(edb.get_uuid_db().find({}, {\"user_email\":1, \"uuid\": 1, \"_id\": 0}))"
   ]
  },
  {
   "cell_type": "code",
   "execution_count": 5,
   "metadata": {
    "jupyter": {
     "outputs_hidden": true
    }
   },
   "outputs": [
    {
     "name": "stdout",
     "output_type": "stream",
     "text": [
      "Did not find any new data\n"
     ]
    }
   ],
   "source": [
    "new_data = False\n",
    "for user in all_users:\n",
    "    ts = esta.TimeSeries.get_time_series(user['uuid'])\n",
    "    tq = estt.TimeQuery(\"data.start_ts\", arrow.utcnow().float_timestamp-(3600*6), # start of range, 6 hours\n",
    "                              arrow.utcnow().float_timestamp)  # end of range\n",
    "    is_df = ts.get_data_df(\"analysis/inferred_section\", time_query=tq)\n",
    "    if is_df.empty:\n",
    "        continue\n",
    "    new_data = True\n",
    "    is_df[\"speed\"] = is_df.distance/is_df.duration\n",
    "    is_df[\"co2\"] = is_df.apply(compute_carbon_footprint, axis=1)\n",
    "    payloads = create_payloads(is_df)\n",
    "    post_payloads(payloads)\n",
    "if not new_data:\n",
    "    print(\"Did not find any new data\")"
   ]
  }
 ],
 "metadata": {
  "kernelspec": {
   "display_name": "Python 3",
   "language": "python",
   "name": "python3"
  },
  "language_info": {
   "codemirror_mode": {
    "name": "ipython",
    "version": 3
   },
   "file_extension": ".py",
   "mimetype": "text/x-python",
   "name": "python",
   "nbconvert_exporter": "python",
   "pygments_lexer": "ipython3",
   "version": "3.6.1"
  }
 },
 "nbformat": 4,
 "nbformat_minor": 4
}
